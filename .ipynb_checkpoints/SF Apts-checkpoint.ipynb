{
 "cells": [
  {
   "cell_type": "code",
   "execution_count": 10,
   "metadata": {
    "collapsed": false
   },
   "outputs": [],
   "source": [
    "#Modified from https://github.com/choldgraf/write-ups/blob/master/comp/craigslist_scrape.ipynb\n",
    "import pandas as pd\n",
    "from time import sleep\n",
    "import numpy as np\n",
    "import requests\n",
    "from bs4 import BeautifulSoup as bs4\n",
    "import seaborn as sns\n",
    "\n",
    "%matplotlib inline"
   ]
  },
  {
   "cell_type": "code",
   "execution_count": 9,
   "metadata": {
    "collapsed": true
   },
   "outputs": [],
   "source": [
    "loc_prefixes = ['sfc']\n",
    "#loc_prefixes = ['eby', 'nby', 'sfc', 'sby', 'scz']\n"
   ]
  },
  {
   "cell_type": "code",
   "execution_count": 3,
   "metadata": {
    "collapsed": true
   },
   "outputs": [],
   "source": [
    "def find_prices(results):\n",
    "    prices = []\n",
    "    for rw in results:\n",
    "        price = rw.find('span', {'class': 'price'})\n",
    "        if price is not None:\n",
    "            price = float(price.text.strip('$'))\n",
    "        else:\n",
    "            price = np.nan\n",
    "        prices.append(price)\n",
    "    return prices\n",
    "\n",
    "# no addresses in search results only in post page itself\n",
    "def find_address(results):\n",
    "    address = []\n",
    "    for rw in results:\n",
    "        address = rw.find()\n",
    "        if time is not None:\n",
    "            time = time['datetime']\n",
    "            time = pd.to_datetime(time)\n",
    "        else:\n",
    "            time = np.nan\n",
    "        times.append(time)\n",
    "    return times"
   ]
  },
  {
   "cell_type": "code",
   "execution_count": 24,
   "metadata": {
    "collapsed": false
   },
   "outputs": [],
   "source": [
    "def find_size_and_brs(size):\n",
    "    split = size.strip('/- ').split(' - ')\n",
    "    if len(split) == 2:\n",
    "        n_brs = split[0].replace('br', '')\n",
    "        this_size = split[1].replace('ft2', '')\n",
    "    elif 'br' in split[0]:\n",
    "        # It's the n_bedrooms\n",
    "        n_brs = split[0].replace('br', '')\n",
    "        this_size = -1\n",
    "    elif 'ft2' in split[0]:\n",
    "        # It's the size\n",
    "        this_size = split[0].replace('ft2', '')\n",
    "        n_brs = -1\n",
    "    return float(this_size), float(n_brs)\n"
   ]
  },
  {
   "cell_type": "code",
   "execution_count": 6,
   "metadata": {
    "collapsed": false
   },
   "outputs": [],
   "source": [
    "results = []  # We'll store the data here\n",
    "# Careful with this...too many queries == your IP gets banned temporarily\n",
    "search_indices = np.arange(0, 300, 100)"
   ]
  },
  {
   "cell_type": "code",
   "execution_count": 29,
   "metadata": {
    "collapsed": false
   },
   "outputs": [],
   "source": [
    "def crawl_cl(pr, br, ba, radius=1, postal=94103):\n",
    "\n",
    "    # Now loop through all of this and store the results\n",
    "    results = []  # We'll store the data here\n",
    "\n",
    "    #search_indices = np.arange(0, 300, 100)\n",
    "    for loc in loc_prefixes:\n",
    "        print(loc)\n",
    "        for i in range(0,5):\n",
    "            #print(i)\n",
    "            url = 'http://sfbay.craigslist.org/search/{0}/apa'.format(loc)\n",
    "            # 1 mile radius from soma/civic center\n",
    "            resp = requests.get(url, params={'bedrooms': br, 'max_price':pr, 'bathrooms':ba, \\\n",
    "                                             'search_distance': radius, 'postal':postal, 's': i})\n",
    "            print(resp.url)\n",
    "            txt = bs4(resp.text, 'html.parser')\n",
    "            apts = txt.findAll(attrs={'class': \"row\"})\n",
    "            print(apts)\n",
    "            # Find the size of all entries\n",
    "            size_text = [rw.findAll(attrs={'class': 'housing'})[0].text\n",
    "                         for rw in apts]\n",
    "            #print(size_text)\n",
    "            sizes_brs = [find_size_and_brs(stxt) for stxt in size_text]\n",
    "            #print(sizes_brs)\n",
    "            sizes, n_brs = zip(*sizes_brs)  # This unzips into 2 vectors\n",
    "\n",
    "            # Find the title and link\n",
    "            title = [rw.find('a', attrs={'class': 'hdrlnk'}).text\n",
    "                          for rw in apts]\n",
    "            links = ['https://sfbay.craigslist.org'+rw.find('a', attrs={'class': 'hdrlnk'})['href']\n",
    "                     for rw in apts]\n",
    "\n",
    "            hood = [rw.find('span', {'class': 'pnr'}).text.split('   ')[0][3:-1] for rw in apts]\n",
    "            # Find the time\n",
    "            time = [pd.to_datetime(rw.find('time')['datetime']) for rw in apts]\n",
    "            price = find_prices(apts)\n",
    "\n",
    "            #create price per sq ft\n",
    "            pricepersqft = [price[a]/sizes[a] for a in range(0,len(price))]\n",
    "\n",
    "            # We'll create a dataframe to store all the data\n",
    "            data = np.array([time, price, sizes, pricepersqft, n_brs, title, hood, links])\n",
    "            col_names = ['time', 'price', 'size', 'pricepersqft','brs', 'title', 'neighborhood', 'link']\n",
    "            df = pd.DataFrame(data.T, columns=col_names)\n",
    "            df = df.set_index('time')\n",
    "\n",
    "            # Add the location variable to all entries\n",
    "            #df['loc'] = loc\n",
    "            results.append(df)\n",
    "            #sleep 30 seconds\n",
    "            sleep_amt = np.random.randint(20, 60)\n",
    "            sleep(sleep_amt)\n",
    "    # Finally, concatenate all the results\n",
    "    results = pd.concat(results, axis=0)\n",
    "    return results"
   ]
  },
  {
   "cell_type": "code",
   "execution_count": 30,
   "metadata": {
    "collapsed": false
   },
   "outputs": [
    {
     "name": "stdout",
     "output_type": "stream",
     "text": [
      "sfc\n",
      "http://sfbay.craigslist.org/search/sfc/apa?bathrooms=3500&s=0&bedrooms=1&search_distance=1&max_price=1&postal=94103\n",
      "[]\n"
     ]
    },
    {
     "ename": "ValueError",
     "evalue": "not enough values to unpack (expected 2, got 0)",
     "output_type": "error",
     "traceback": [
      "\u001b[0;31m---------------------------------------------------------------------------\u001b[0m",
      "\u001b[0;31mValueError\u001b[0m                                Traceback (most recent call last)",
      "\u001b[0;32m<ipython-input-30-8efac752d626>\u001b[0m in \u001b[0;36m<module>\u001b[0;34m()\u001b[0m\n\u001b[0;32m----> 1\u001b[0;31m \u001b[0mresults\u001b[0m \u001b[0;34m=\u001b[0m \u001b[0mcrawl_cl\u001b[0m\u001b[0;34m(\u001b[0m\u001b[0;36m1\u001b[0m\u001b[0;34m,\u001b[0m \u001b[0;36m1\u001b[0m\u001b[0;34m,\u001b[0m \u001b[0;36m3500\u001b[0m\u001b[0;34m)\u001b[0m\u001b[0;34m\u001b[0m\u001b[0m\n\u001b[0m",
      "\u001b[0;32m<ipython-input-29-e3dc939b0f62>\u001b[0m in \u001b[0;36mcrawl_cl\u001b[0;34m(pr, br, ba, radius, postal)\u001b[0m\n\u001b[1;32m     22\u001b[0m             \u001b[0msizes_brs\u001b[0m \u001b[0;34m=\u001b[0m \u001b[0;34m[\u001b[0m\u001b[0mfind_size_and_brs\u001b[0m\u001b[0;34m(\u001b[0m\u001b[0mstxt\u001b[0m\u001b[0;34m)\u001b[0m \u001b[0;32mfor\u001b[0m \u001b[0mstxt\u001b[0m \u001b[0;32min\u001b[0m \u001b[0msize_text\u001b[0m\u001b[0;34m]\u001b[0m\u001b[0;34m\u001b[0m\u001b[0m\n\u001b[1;32m     23\u001b[0m             \u001b[0;31m#print(sizes_brs)\u001b[0m\u001b[0;34m\u001b[0m\u001b[0;34m\u001b[0m\u001b[0m\n\u001b[0;32m---> 24\u001b[0;31m             \u001b[0msizes\u001b[0m\u001b[0;34m,\u001b[0m \u001b[0mn_brs\u001b[0m \u001b[0;34m=\u001b[0m \u001b[0mzip\u001b[0m\u001b[0;34m(\u001b[0m\u001b[0;34m*\u001b[0m\u001b[0msizes_brs\u001b[0m\u001b[0;34m)\u001b[0m  \u001b[0;31m# This unzips into 2 vectors\u001b[0m\u001b[0;34m\u001b[0m\u001b[0m\n\u001b[0m\u001b[1;32m     25\u001b[0m \u001b[0;34m\u001b[0m\u001b[0m\n\u001b[1;32m     26\u001b[0m             \u001b[0;31m# Find the title and link\u001b[0m\u001b[0;34m\u001b[0m\u001b[0;34m\u001b[0m\u001b[0m\n",
      "\u001b[0;31mValueError\u001b[0m: not enough values to unpack (expected 2, got 0)"
     ]
    }
   ],
   "source": [
    "results = crawl_cl(1, 1, 3500)"
   ]
  },
  {
   "cell_type": "code",
   "execution_count": 11,
   "metadata": {
    "collapsed": false
   },
   "outputs": [],
   "source": [
    "results = results[results['brs']==1].drop_duplicates() #only looking for 1 bedrooms"
   ]
  },
  {
   "cell_type": "code",
   "execution_count": 12,
   "metadata": {
    "collapsed": false
   },
   "outputs": [
    {
     "data": {
      "text/html": [
       "<div>\n",
       "<table border=\"1\" class=\"dataframe\">\n",
       "  <thead>\n",
       "    <tr style=\"text-align: right;\">\n",
       "      <th></th>\n",
       "      <th>price</th>\n",
       "      <th>size</th>\n",
       "      <th>pricepersqft</th>\n",
       "      <th>brs</th>\n",
       "      <th>title</th>\n",
       "      <th>neighborhood</th>\n",
       "      <th>link</th>\n",
       "    </tr>\n",
       "  </thead>\n",
       "  <tbody>\n",
       "    <tr>\n",
       "      <th>count</th>\n",
       "      <td>81.0</td>\n",
       "      <td>81.0</td>\n",
       "      <td>81.0</td>\n",
       "      <td>81.0</td>\n",
       "      <td>81</td>\n",
       "      <td>81</td>\n",
       "      <td>81</td>\n",
       "    </tr>\n",
       "    <tr>\n",
       "      <th>unique</th>\n",
       "      <td>32.0</td>\n",
       "      <td>18.0</td>\n",
       "      <td>46.0</td>\n",
       "      <td>1.0</td>\n",
       "      <td>72</td>\n",
       "      <td>11</td>\n",
       "      <td>81</td>\n",
       "    </tr>\n",
       "    <tr>\n",
       "      <th>top</th>\n",
       "      <td>2495.0</td>\n",
       "      <td>-1.0</td>\n",
       "      <td>-2495.0</td>\n",
       "      <td>1.0</td>\n",
       "      <td>Remodeled One Bedroom, Hardwood Flrs, Heart of...</td>\n",
       "      <td>SOMA / south beach</td>\n",
       "      <td>https://sfbay.craigslist.org/sfc/apa/555852195...</td>\n",
       "    </tr>\n",
       "    <tr>\n",
       "      <th>freq</th>\n",
       "      <td>8.0</td>\n",
       "      <td>56.0</td>\n",
       "      <td>7.0</td>\n",
       "      <td>81.0</td>\n",
       "      <td>4</td>\n",
       "      <td>27</td>\n",
       "      <td>1</td>\n",
       "    </tr>\n",
       "  </tbody>\n",
       "</table>\n",
       "</div>"
      ],
      "text/plain": [
       "         price  size  pricepersqft   brs  \\\n",
       "count     81.0  81.0          81.0  81.0   \n",
       "unique    32.0  18.0          46.0   1.0   \n",
       "top     2495.0  -1.0       -2495.0   1.0   \n",
       "freq       8.0  56.0           7.0  81.0   \n",
       "\n",
       "                                                    title        neighborhood  \\\n",
       "count                                                  81                  81   \n",
       "unique                                                 72                  11   \n",
       "top     Remodeled One Bedroom, Hardwood Flrs, Heart of...  SOMA / south beach   \n",
       "freq                                                    4                  27   \n",
       "\n",
       "                                                     link  \n",
       "count                                                  81  \n",
       "unique                                                 81  \n",
       "top     https://sfbay.craigslist.org/sfc/apa/555852195...  \n",
       "freq                                                    1  "
      ]
     },
     "execution_count": 12,
     "metadata": {},
     "output_type": "execute_result"
    }
   ],
   "source": [
    "results.describe()"
   ]
  },
  {
   "cell_type": "code",
   "execution_count": 13,
   "metadata": {
    "collapsed": true
   },
   "outputs": [],
   "source": [
    "withsqft = results[results['pricepersqft']>0]"
   ]
  },
  {
   "cell_type": "code",
   "execution_count": 14,
   "metadata": {
    "collapsed": false
   },
   "outputs": [],
   "source": [
    "pd.set_option('max_colwidth',100)"
   ]
  },
  {
   "cell_type": "code",
   "execution_count": 15,
   "metadata": {
    "collapsed": false,
    "scrolled": true
   },
   "outputs": [
    {
     "data": {
      "text/html": [
       "<div>\n",
       "<table border=\"1\" class=\"dataframe\">\n",
       "  <thead>\n",
       "    <tr style=\"text-align: right;\">\n",
       "      <th></th>\n",
       "      <th>price</th>\n",
       "      <th>size</th>\n",
       "      <th>pricepersqft</th>\n",
       "      <th>brs</th>\n",
       "      <th>title</th>\n",
       "      <th>neighborhood</th>\n",
       "      <th>link</th>\n",
       "    </tr>\n",
       "    <tr>\n",
       "      <th>time</th>\n",
       "      <th></th>\n",
       "      <th></th>\n",
       "      <th></th>\n",
       "      <th></th>\n",
       "      <th></th>\n",
       "      <th></th>\n",
       "      <th></th>\n",
       "    </tr>\n",
       "  </thead>\n",
       "  <tbody>\n",
       "    <tr>\n",
       "      <th>2016-05-09 23:02:00</th>\n",
       "      <td>2000</td>\n",
       "      <td>882</td>\n",
       "      <td>2.26757</td>\n",
       "      <td>1</td>\n",
       "      <td>1 Bed/bath Suite in Modern Complex w/ Gym</td>\n",
       "      <td>downtown / civic / van ness</td>\n",
       "      <td>https://sfbay.craigslist.org/sfc/apa/5578787769.html</td>\n",
       "    </tr>\n",
       "    <tr>\n",
       "      <th>2016-05-07 12:29:00</th>\n",
       "      <td>2995</td>\n",
       "      <td>860</td>\n",
       "      <td>3.48256</td>\n",
       "      <td>1</td>\n",
       "      <td>Large Historical 1 BR downtown</td>\n",
       "      <td>financial district</td>\n",
       "      <td>https://sfbay.craigslist.org/sfc/apa/5570686438.html</td>\n",
       "    </tr>\n",
       "    <tr>\n",
       "      <th>2016-05-10 07:10:00</th>\n",
       "      <td>2450</td>\n",
       "      <td>700</td>\n",
       "      <td>3.5</td>\n",
       "      <td>1</td>\n",
       "      <td>Large 1 Bedroom Flat available for SoMa summer sublet</td>\n",
       "      <td>SOMA / south beach</td>\n",
       "      <td>https://sfbay.craigslist.org/sfc/apa/5568387176.html</td>\n",
       "    </tr>\n",
       "    <tr>\n",
       "      <th>2016-05-09 13:46:00</th>\n",
       "      <td>2833</td>\n",
       "      <td>780</td>\n",
       "      <td>3.63205</td>\n",
       "      <td>1</td>\n",
       "      <td>2 MONTHS FREE RENT! BARGAIN PRICE! MOVE-IN READY 1BD/1.5BA</td>\n",
       "      <td>SOMA / south beach</td>\n",
       "      <td>https://sfbay.craigslist.org/sfc/apa/5578127033.html</td>\n",
       "    </tr>\n",
       "    <tr>\n",
       "      <th>2016-05-09 13:41:00</th>\n",
       "      <td>2833</td>\n",
       "      <td>780</td>\n",
       "      <td>3.63205</td>\n",
       "      <td>1</td>\n",
       "      <td>2 MONTHS FREE RENT! BARGAIN PRICE! MOVE-IN READY 1BD/1.5BA</td>\n",
       "      <td>SOMA / south beach</td>\n",
       "      <td>https://sfbay.craigslist.org/sfc/apa/5570500101.html</td>\n",
       "    </tr>\n",
       "    <tr>\n",
       "      <th>2016-05-07 07:34:00</th>\n",
       "      <td>2800</td>\n",
       "      <td>718</td>\n",
       "      <td>3.89972</td>\n",
       "      <td>1</td>\n",
       "      <td>-- Newly painted Quiet Condo for Lease at Opera Plaza</td>\n",
       "      <td>downtown / civic / van ness</td>\n",
       "      <td>https://sfbay.craigslist.org/sfc/apa/5574711195.html</td>\n",
       "    </tr>\n",
       "    <tr>\n",
       "      <th>2016-05-09 17:54:00</th>\n",
       "      <td>2695</td>\n",
       "      <td>689</td>\n",
       "      <td>3.91147</td>\n",
       "      <td>1</td>\n",
       "      <td>THE SECRET GARDEN APARTMENTS!1BR you can make into a 2BR to share</td>\n",
       "      <td>tenderloin</td>\n",
       "      <td>https://sfbay.craigslist.org/sfc/apa/5578512616.html</td>\n",
       "    </tr>\n",
       "    <tr>\n",
       "      <th>2016-05-10 14:14:00</th>\n",
       "      <td>2450</td>\n",
       "      <td>600</td>\n",
       "      <td>4.08333</td>\n",
       "      <td>1</td>\n",
       "      <td>OPEN HOUSE - Sat. May 14th 1pm to 3pm - Beautiful Details!</td>\n",
       "      <td>castro / upper market</td>\n",
       "      <td>https://sfbay.craigslist.org/sfc/apa/5574116889.html</td>\n",
       "    </tr>\n",
       "    <tr>\n",
       "      <th>2016-05-08 10:58:00</th>\n",
       "      <td>2650</td>\n",
       "      <td>625</td>\n",
       "      <td>4.24</td>\n",
       "      <td>1</td>\n",
       "      <td>SHOWING WEDNESDAY 5 to 5:30pm / Contemporary apt. # 201</td>\n",
       "      <td>SOMA / south beach</td>\n",
       "      <td>https://sfbay.craigslist.org/sfc/apa/5569423156.html</td>\n",
       "    </tr>\n",
       "    <tr>\n",
       "      <th>2016-05-09 09:35:00</th>\n",
       "      <td>2495</td>\n",
       "      <td>587</td>\n",
       "      <td>4.25043</td>\n",
       "      <td>1</td>\n",
       "      <td>Perfect SOMA 1 Bedroom! Bright Eastern Views~Virtual Tour!</td>\n",
       "      <td>SOMA / south beach</td>\n",
       "      <td>https://sfbay.craigslist.org/sfc/apa/5566779468.html</td>\n",
       "    </tr>\n",
       "    <tr>\n",
       "      <th>2016-05-07 06:12:00</th>\n",
       "      <td>3000</td>\n",
       "      <td>700</td>\n",
       "      <td>4.28571</td>\n",
       "      <td>1</td>\n",
       "      <td>Great Jr.bedroom in excellent location</td>\n",
       "      <td>downtown / civic / van ness</td>\n",
       "      <td>https://sfbay.craigslist.org/sfc/apa/5574600236.html</td>\n",
       "    </tr>\n",
       "    <tr>\n",
       "      <th>2016-05-09 09:48:00</th>\n",
       "      <td>2595</td>\n",
       "      <td>602</td>\n",
       "      <td>4.31063</td>\n",
       "      <td>1</td>\n",
       "      <td>455 Eddy #1007 - 1 bedroom (24/7 security, balcony, close to BART)</td>\n",
       "      <td>tenderloin</td>\n",
       "      <td>https://sfbay.craigslist.org/sfc/apa/5553212393.html</td>\n",
       "    </tr>\n",
       "    <tr>\n",
       "      <th>2016-05-10 13:29:00</th>\n",
       "      <td>2100</td>\n",
       "      <td>450</td>\n",
       "      <td>4.66667</td>\n",
       "      <td>1</td>\n",
       "      <td>Nice TL Junior One Bedroom</td>\n",
       "      <td>downtown / civic / van ness</td>\n",
       "      <td>https://sfbay.craigslist.org/sfc/apa/5562768094.html</td>\n",
       "    </tr>\n",
       "    <tr>\n",
       "      <th>2016-05-10 13:26:00</th>\n",
       "      <td>2100</td>\n",
       "      <td>450</td>\n",
       "      <td>4.66667</td>\n",
       "      <td>1</td>\n",
       "      <td>Junior One Bedroom That Works For 2 Roommates</td>\n",
       "      <td>tenderloin</td>\n",
       "      <td>https://sfbay.craigslist.org/sfc/apa/5558521956.html</td>\n",
       "    </tr>\n",
       "    <tr>\n",
       "      <th>2016-05-10 01:27:00</th>\n",
       "      <td>2100</td>\n",
       "      <td>450</td>\n",
       "      <td>4.66667</td>\n",
       "      <td>1</td>\n",
       "      <td>Junior One Bedroom That Works For 2 Roommates</td>\n",
       "      <td>lower nob hill</td>\n",
       "      <td>https://sfbay.craigslist.org/sfc/apa/5559725560.html</td>\n",
       "    </tr>\n",
       "    <tr>\n",
       "      <th>2016-05-06 08:48:00</th>\n",
       "      <td>2995</td>\n",
       "      <td>640</td>\n",
       "      <td>4.67969</td>\n",
       "      <td>1</td>\n",
       "      <td>SPACIOUS, SUNNY 1 BEDROOM-$2995</td>\n",
       "      <td>lower nob hill</td>\n",
       "      <td>https://sfbay.craigslist.org/sfc/apa/5555140136.html</td>\n",
       "    </tr>\n",
       "    <tr>\n",
       "      <th>2016-05-08 08:42:00</th>\n",
       "      <td>2950</td>\n",
       "      <td>600</td>\n",
       "      <td>4.91667</td>\n",
       "      <td>1</td>\n",
       "      <td>SOMA Loft- All NEW</td>\n",
       "      <td>SOMA / south beach</td>\n",
       "      <td>https://sfbay.craigslist.org/sfc/apa/5576150299.html</td>\n",
       "    </tr>\n",
       "    <tr>\n",
       "      <th>2016-05-09 09:57:00</th>\n",
       "      <td>2195</td>\n",
       "      <td>440</td>\n",
       "      <td>4.98864</td>\n",
       "      <td>1</td>\n",
       "      <td>Large one-bedroom w/backyard garden.</td>\n",
       "      <td>lower nob hill</td>\n",
       "      <td>https://sfbay.craigslist.org/sfc/apa/5567406067.html</td>\n",
       "    </tr>\n",
       "    <tr>\n",
       "      <th>2016-05-06 09:01:00</th>\n",
       "      <td>2995</td>\n",
       "      <td>530</td>\n",
       "      <td>5.65094</td>\n",
       "      <td>1</td>\n",
       "      <td>SoMa - Jr 1 BR, 1 BA Condo 530 Sq. Ft. - Near AT&amp;T; Park &amp; Caltrain</td>\n",
       "      <td>SOMA / south beach</td>\n",
       "      <td>https://sfbay.craigslist.org/sfc/apa/5573288201.html</td>\n",
       "    </tr>\n",
       "    <tr>\n",
       "      <th>2016-05-10 10:32:00</th>\n",
       "      <td>2995</td>\n",
       "      <td>530</td>\n",
       "      <td>5.65094</td>\n",
       "      <td>1</td>\n",
       "      <td>SoMa - Jr 1 BR, 1 BA Condo 530 Sq. Ft. - Near AT&amp;T; Park &amp; Caltrain</td>\n",
       "      <td>SOMA / south beach</td>\n",
       "      <td>https://sfbay.craigslist.org/sfc/apa/5579468982.html</td>\n",
       "    </tr>\n",
       "    <tr>\n",
       "      <th>2016-05-09 12:49:00</th>\n",
       "      <td>2395</td>\n",
       "      <td>402</td>\n",
       "      <td>5.95771</td>\n",
       "      <td>1</td>\n",
       "      <td>Conveniently close to work, city life, and public transit.</td>\n",
       "      <td>lower nob hill</td>\n",
       "      <td>https://sfbay.craigslist.org/sfc/apa/5578022872.html</td>\n",
       "    </tr>\n",
       "    <tr>\n",
       "      <th>2016-05-10 09:29:00</th>\n",
       "      <td>2833</td>\n",
       "      <td>453</td>\n",
       "      <td>6.25386</td>\n",
       "      <td>1</td>\n",
       "      <td>Gem in the City! Junior One Bedroom!</td>\n",
       "      <td>SOMA / south beach</td>\n",
       "      <td>https://sfbay.craigslist.org/sfc/apa/5560935873.html</td>\n",
       "    </tr>\n",
       "    <tr>\n",
       "      <th>2016-05-06 15:12:00</th>\n",
       "      <td>2833</td>\n",
       "      <td>453</td>\n",
       "      <td>6.25386</td>\n",
       "      <td>1</td>\n",
       "      <td>Charming Junior One Bedroom! Perfect for City Living!</td>\n",
       "      <td>SOMA / south beach</td>\n",
       "      <td>https://sfbay.craigslist.org/sfc/apa/5570660993.html</td>\n",
       "    </tr>\n",
       "    <tr>\n",
       "      <th>2016-05-09 09:47:00</th>\n",
       "      <td>3000</td>\n",
       "      <td>476</td>\n",
       "      <td>6.30252</td>\n",
       "      <td>1</td>\n",
       "      <td>Join our Ossom Mosso Community!</td>\n",
       "      <td>SOMA / south beach</td>\n",
       "      <td>https://sfbay.craigslist.org/sfc/apa/5577643704.html</td>\n",
       "    </tr>\n",
       "    <tr>\n",
       "      <th>2016-05-09 10:54:00</th>\n",
       "      <td>3000</td>\n",
       "      <td>476</td>\n",
       "      <td>6.30252</td>\n",
       "      <td>1</td>\n",
       "      <td>Sunny 1 bedroom with a walk in closet</td>\n",
       "      <td>SOMA / south beach</td>\n",
       "      <td>https://sfbay.craigslist.org/sfc/apa/5577779787.html</td>\n",
       "    </tr>\n",
       "  </tbody>\n",
       "</table>\n",
       "</div>"
      ],
      "text/plain": [
       "                    price size pricepersqft brs  \\\n",
       "time                                              \n",
       "2016-05-09 23:02:00  2000  882      2.26757   1   \n",
       "2016-05-07 12:29:00  2995  860      3.48256   1   \n",
       "2016-05-10 07:10:00  2450  700          3.5   1   \n",
       "2016-05-09 13:46:00  2833  780      3.63205   1   \n",
       "2016-05-09 13:41:00  2833  780      3.63205   1   \n",
       "2016-05-07 07:34:00  2800  718      3.89972   1   \n",
       "2016-05-09 17:54:00  2695  689      3.91147   1   \n",
       "2016-05-10 14:14:00  2450  600      4.08333   1   \n",
       "2016-05-08 10:58:00  2650  625         4.24   1   \n",
       "2016-05-09 09:35:00  2495  587      4.25043   1   \n",
       "2016-05-07 06:12:00  3000  700      4.28571   1   \n",
       "2016-05-09 09:48:00  2595  602      4.31063   1   \n",
       "2016-05-10 13:29:00  2100  450      4.66667   1   \n",
       "2016-05-10 13:26:00  2100  450      4.66667   1   \n",
       "2016-05-10 01:27:00  2100  450      4.66667   1   \n",
       "2016-05-06 08:48:00  2995  640      4.67969   1   \n",
       "2016-05-08 08:42:00  2950  600      4.91667   1   \n",
       "2016-05-09 09:57:00  2195  440      4.98864   1   \n",
       "2016-05-06 09:01:00  2995  530      5.65094   1   \n",
       "2016-05-10 10:32:00  2995  530      5.65094   1   \n",
       "2016-05-09 12:49:00  2395  402      5.95771   1   \n",
       "2016-05-10 09:29:00  2833  453      6.25386   1   \n",
       "2016-05-06 15:12:00  2833  453      6.25386   1   \n",
       "2016-05-09 09:47:00  3000  476      6.30252   1   \n",
       "2016-05-09 10:54:00  3000  476      6.30252   1   \n",
       "\n",
       "                                                                                   title  \\\n",
       "time                                                                                       \n",
       "2016-05-09 23:02:00                            1 Bed/bath Suite in Modern Complex w/ Gym   \n",
       "2016-05-07 12:29:00                                       Large Historical 1 BR downtown   \n",
       "2016-05-10 07:10:00                Large 1 Bedroom Flat available for SoMa summer sublet   \n",
       "2016-05-09 13:46:00           2 MONTHS FREE RENT! BARGAIN PRICE! MOVE-IN READY 1BD/1.5BA   \n",
       "2016-05-09 13:41:00           2 MONTHS FREE RENT! BARGAIN PRICE! MOVE-IN READY 1BD/1.5BA   \n",
       "2016-05-07 07:34:00                -- Newly painted Quiet Condo for Lease at Opera Plaza   \n",
       "2016-05-09 17:54:00    THE SECRET GARDEN APARTMENTS!1BR you can make into a 2BR to share   \n",
       "2016-05-10 14:14:00           OPEN HOUSE - Sat. May 14th 1pm to 3pm - Beautiful Details!   \n",
       "2016-05-08 10:58:00              SHOWING WEDNESDAY 5 to 5:30pm / Contemporary apt. # 201   \n",
       "2016-05-09 09:35:00           Perfect SOMA 1 Bedroom! Bright Eastern Views~Virtual Tour!   \n",
       "2016-05-07 06:12:00                               Great Jr.bedroom in excellent location   \n",
       "2016-05-09 09:48:00   455 Eddy #1007 - 1 bedroom (24/7 security, balcony, close to BART)   \n",
       "2016-05-10 13:29:00                                           Nice TL Junior One Bedroom   \n",
       "2016-05-10 13:26:00                        Junior One Bedroom That Works For 2 Roommates   \n",
       "2016-05-10 01:27:00                        Junior One Bedroom That Works For 2 Roommates   \n",
       "2016-05-06 08:48:00                                      SPACIOUS, SUNNY 1 BEDROOM-$2995   \n",
       "2016-05-08 08:42:00                                                   SOMA Loft- All NEW   \n",
       "2016-05-09 09:57:00                                 Large one-bedroom w/backyard garden.   \n",
       "2016-05-06 09:01:00  SoMa - Jr 1 BR, 1 BA Condo 530 Sq. Ft. - Near AT&T; Park & Caltrain   \n",
       "2016-05-10 10:32:00  SoMa - Jr 1 BR, 1 BA Condo 530 Sq. Ft. - Near AT&T; Park & Caltrain   \n",
       "2016-05-09 12:49:00           Conveniently close to work, city life, and public transit.   \n",
       "2016-05-10 09:29:00                                 Gem in the City! Junior One Bedroom!   \n",
       "2016-05-06 15:12:00                Charming Junior One Bedroom! Perfect for City Living!   \n",
       "2016-05-09 09:47:00                                      Join our Ossom Mosso Community!   \n",
       "2016-05-09 10:54:00                                Sunny 1 bedroom with a walk in closet   \n",
       "\n",
       "                                    neighborhood  \\\n",
       "time                                               \n",
       "2016-05-09 23:02:00  downtown / civic / van ness   \n",
       "2016-05-07 12:29:00           financial district   \n",
       "2016-05-10 07:10:00           SOMA / south beach   \n",
       "2016-05-09 13:46:00           SOMA / south beach   \n",
       "2016-05-09 13:41:00           SOMA / south beach   \n",
       "2016-05-07 07:34:00  downtown / civic / van ness   \n",
       "2016-05-09 17:54:00                   tenderloin   \n",
       "2016-05-10 14:14:00        castro / upper market   \n",
       "2016-05-08 10:58:00           SOMA / south beach   \n",
       "2016-05-09 09:35:00           SOMA / south beach   \n",
       "2016-05-07 06:12:00  downtown / civic / van ness   \n",
       "2016-05-09 09:48:00                   tenderloin   \n",
       "2016-05-10 13:29:00  downtown / civic / van ness   \n",
       "2016-05-10 13:26:00                   tenderloin   \n",
       "2016-05-10 01:27:00               lower nob hill   \n",
       "2016-05-06 08:48:00               lower nob hill   \n",
       "2016-05-08 08:42:00           SOMA / south beach   \n",
       "2016-05-09 09:57:00               lower nob hill   \n",
       "2016-05-06 09:01:00           SOMA / south beach   \n",
       "2016-05-10 10:32:00           SOMA / south beach   \n",
       "2016-05-09 12:49:00               lower nob hill   \n",
       "2016-05-10 09:29:00           SOMA / south beach   \n",
       "2016-05-06 15:12:00           SOMA / south beach   \n",
       "2016-05-09 09:47:00           SOMA / south beach   \n",
       "2016-05-09 10:54:00           SOMA / south beach   \n",
       "\n",
       "                                                                     link  \n",
       "time                                                                       \n",
       "2016-05-09 23:02:00  https://sfbay.craigslist.org/sfc/apa/5578787769.html  \n",
       "2016-05-07 12:29:00  https://sfbay.craigslist.org/sfc/apa/5570686438.html  \n",
       "2016-05-10 07:10:00  https://sfbay.craigslist.org/sfc/apa/5568387176.html  \n",
       "2016-05-09 13:46:00  https://sfbay.craigslist.org/sfc/apa/5578127033.html  \n",
       "2016-05-09 13:41:00  https://sfbay.craigslist.org/sfc/apa/5570500101.html  \n",
       "2016-05-07 07:34:00  https://sfbay.craigslist.org/sfc/apa/5574711195.html  \n",
       "2016-05-09 17:54:00  https://sfbay.craigslist.org/sfc/apa/5578512616.html  \n",
       "2016-05-10 14:14:00  https://sfbay.craigslist.org/sfc/apa/5574116889.html  \n",
       "2016-05-08 10:58:00  https://sfbay.craigslist.org/sfc/apa/5569423156.html  \n",
       "2016-05-09 09:35:00  https://sfbay.craigslist.org/sfc/apa/5566779468.html  \n",
       "2016-05-07 06:12:00  https://sfbay.craigslist.org/sfc/apa/5574600236.html  \n",
       "2016-05-09 09:48:00  https://sfbay.craigslist.org/sfc/apa/5553212393.html  \n",
       "2016-05-10 13:29:00  https://sfbay.craigslist.org/sfc/apa/5562768094.html  \n",
       "2016-05-10 13:26:00  https://sfbay.craigslist.org/sfc/apa/5558521956.html  \n",
       "2016-05-10 01:27:00  https://sfbay.craigslist.org/sfc/apa/5559725560.html  \n",
       "2016-05-06 08:48:00  https://sfbay.craigslist.org/sfc/apa/5555140136.html  \n",
       "2016-05-08 08:42:00  https://sfbay.craigslist.org/sfc/apa/5576150299.html  \n",
       "2016-05-09 09:57:00  https://sfbay.craigslist.org/sfc/apa/5567406067.html  \n",
       "2016-05-06 09:01:00  https://sfbay.craigslist.org/sfc/apa/5573288201.html  \n",
       "2016-05-10 10:32:00  https://sfbay.craigslist.org/sfc/apa/5579468982.html  \n",
       "2016-05-09 12:49:00  https://sfbay.craigslist.org/sfc/apa/5578022872.html  \n",
       "2016-05-10 09:29:00  https://sfbay.craigslist.org/sfc/apa/5560935873.html  \n",
       "2016-05-06 15:12:00  https://sfbay.craigslist.org/sfc/apa/5570660993.html  \n",
       "2016-05-09 09:47:00  https://sfbay.craigslist.org/sfc/apa/5577643704.html  \n",
       "2016-05-09 10:54:00  https://sfbay.craigslist.org/sfc/apa/5577779787.html  "
      ]
     },
     "execution_count": 15,
     "metadata": {},
     "output_type": "execute_result"
    }
   ],
   "source": [
    "withsqft.sort_values(['pricepersqft'], ascending=True)"
   ]
  },
  {
   "cell_type": "code",
   "execution_count": 16,
   "metadata": {
    "collapsed": false
   },
   "outputs": [
    {
     "data": {
      "text/plain": [
       "<matplotlib.axes._subplots.AxesSubplot at 0x10b675438>"
      ]
     },
     "execution_count": 16,
     "metadata": {},
     "output_type": "execute_result"
    },
    {
     "data": {
      "image/png": "[encoded data removed]",
      "text/plain": [
       "<matplotlib.figure.Figure at 0x1095c25f8>"
      ]
     },
     "metadata": {},
     "output_type": "display_data"
    }
   ],
   "source": [
    "withsqft.price.hist(alpha=.6)"
   ]
  },
  {
   "cell_type": "code",
   "execution_count": 20,
   "metadata": {
    "collapsed": false
   },
   "outputs": [
    {
     "data": {
      "text/plain": [
       "<matplotlib.axes._subplots.AxesSubplot at 0x10b94d860>"
      ]
     },
     "execution_count": 20,
     "metadata": {},
     "output_type": "execute_result"
    },
    {
     "data": {
      "image/png": "[encoded data removed]",
      "text/plain": [
       "<matplotlib.figure.Figure at 0x10b955fd0>"
      ]
     },
     "metadata": {},
     "output_type": "display_data"
    }
   ],
   "source": [
    "withsqft.pricepersqft.hist(alpha=.6)"
   ]
  },
  {
   "cell_type": "code",
   "execution_count": 17,
   "metadata": {
    "collapsed": true
   },
   "outputs": [],
   "source": [
    "withoutsqft = results[results['pricepersqft']<0]"
   ]
  },
  {
   "cell_type": "code",
   "execution_count": 19,
   "metadata": {
    "collapsed": false
   },
   "outputs": [
    {
     "data": {
      "text/plain": [
       "<matplotlib.axes._subplots.AxesSubplot at 0x10b7c9cf8>"
      ]
     },
     "execution_count": 19,
     "metadata": {},
     "output_type": "execute_result"
    },
    {
     "data": {
      "image/png": "[encoded data removed]",
      "text/plain": [
       "<matplotlib.figure.Figure at 0x10b7dd358>"
      ]
     },
     "metadata": {},
     "output_type": "display_data"
    }
   ],
   "source": [
    "withoutsqft.price.hist(alpha=.6)"
   ]
  },
  {
   "cell_type": "code",
   "execution_count": null,
   "metadata": {
    "collapsed": false
   },
   "outputs": [],
   "source": [
    "withoutsqft.sort_values(['price'], ascending=True)"
   ]
  },
  {
   "cell_type": "code",
   "execution_count": null,
   "metadata": {
    "collapsed": true
   },
   "outputs": [],
   "source": []
  }
 ],
 "metadata": {
  "kernelspec": {
   "display_name": "Python 3",
   "language": "python",
   "name": "python3"
  },
  "language_info": {
   "codemirror_mode": {
    "name": "ipython",
    "version": 3
   },
   "file_extension": ".py",
   "mimetype": "text/x-python",
   "name": "python",
   "nbconvert_exporter": "python",
   "pygments_lexer": "ipython3",
   "version": "3.5.1"
  }
 },
 "nbformat": 4,
 "nbformat_minor": 0
}
